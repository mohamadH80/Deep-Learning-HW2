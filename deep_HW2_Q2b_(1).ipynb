{
  "nbformat": 4,
  "nbformat_minor": 0,
  "metadata": {
    "colab": {
      "provenance": [],
      "gpuType": "T4"
    },
    "kernelspec": {
      "name": "python3",
      "display_name": "Python 3"
    },
    "language_info": {
      "name": "python"
    },
    "accelerator": "GPU",
    "widgets": {
      "application/vnd.jupyter.widget-state+json": {
        "45a6881e5d0b45e08e7e1db9d3a24c29": {
          "model_module": "@jupyter-widgets/controls",
          "model_name": "HBoxModel",
          "model_module_version": "1.5.0",
          "state": {
            "_dom_classes": [],
            "_model_module": "@jupyter-widgets/controls",
            "_model_module_version": "1.5.0",
            "_model_name": "HBoxModel",
            "_view_count": null,
            "_view_module": "@jupyter-widgets/controls",
            "_view_module_version": "1.5.0",
            "_view_name": "HBoxView",
            "box_style": "",
            "children": [
              "IPY_MODEL_3c8c98a38ade433fad5c241772932478",
              "IPY_MODEL_26ed047d75414b24b436e3514c08ac2f",
              "IPY_MODEL_4b3d7ee6a0054eeabb098a768abf771d"
            ],
            "layout": "IPY_MODEL_26f000786c074d1ebb9d1fdfec476581"
          }
        },
        "3c8c98a38ade433fad5c241772932478": {
          "model_module": "@jupyter-widgets/controls",
          "model_name": "HTMLModel",
          "model_module_version": "1.5.0",
          "state": {
            "_dom_classes": [],
            "_model_module": "@jupyter-widgets/controls",
            "_model_module_version": "1.5.0",
            "_model_name": "HTMLModel",
            "_view_count": null,
            "_view_module": "@jupyter-widgets/controls",
            "_view_module_version": "1.5.0",
            "_view_name": "HTMLView",
            "description": "",
            "description_tooltip": null,
            "layout": "IPY_MODEL_cfdb9e288ed1443590938cef973fd2b1",
            "placeholder": "​",
            "style": "IPY_MODEL_becacac0ef1347b2a18fc797853c28ea",
            "value": "100%"
          }
        },
        "26ed047d75414b24b436e3514c08ac2f": {
          "model_module": "@jupyter-widgets/controls",
          "model_name": "FloatProgressModel",
          "model_module_version": "1.5.0",
          "state": {
            "_dom_classes": [],
            "_model_module": "@jupyter-widgets/controls",
            "_model_module_version": "1.5.0",
            "_model_name": "FloatProgressModel",
            "_view_count": null,
            "_view_module": "@jupyter-widgets/controls",
            "_view_module_version": "1.5.0",
            "_view_name": "ProgressView",
            "bar_style": "success",
            "description": "",
            "description_tooltip": null,
            "layout": "IPY_MODEL_c28133a2552e4f0d9844558cd7b2f14a",
            "max": 100,
            "min": 0,
            "orientation": "horizontal",
            "style": "IPY_MODEL_00e60d262c354b4992824da06e477517",
            "value": 100
          }
        },
        "4b3d7ee6a0054eeabb098a768abf771d": {
          "model_module": "@jupyter-widgets/controls",
          "model_name": "HTMLModel",
          "model_module_version": "1.5.0",
          "state": {
            "_dom_classes": [],
            "_model_module": "@jupyter-widgets/controls",
            "_model_module_version": "1.5.0",
            "_model_name": "HTMLModel",
            "_view_count": null,
            "_view_module": "@jupyter-widgets/controls",
            "_view_module_version": "1.5.0",
            "_view_name": "HTMLView",
            "description": "",
            "description_tooltip": null,
            "layout": "IPY_MODEL_61d3ad2d0e8044768849d062123337a5",
            "placeholder": "​",
            "style": "IPY_MODEL_a6d80098b9a248aea1d512075fc8b804",
            "value": " 100/100 [21:14&lt;00:00, 12.73s/it]"
          }
        },
        "26f000786c074d1ebb9d1fdfec476581": {
          "model_module": "@jupyter-widgets/base",
          "model_name": "LayoutModel",
          "model_module_version": "1.2.0",
          "state": {
            "_model_module": "@jupyter-widgets/base",
            "_model_module_version": "1.2.0",
            "_model_name": "LayoutModel",
            "_view_count": null,
            "_view_module": "@jupyter-widgets/base",
            "_view_module_version": "1.2.0",
            "_view_name": "LayoutView",
            "align_content": null,
            "align_items": null,
            "align_self": null,
            "border": null,
            "bottom": null,
            "display": null,
            "flex": null,
            "flex_flow": null,
            "grid_area": null,
            "grid_auto_columns": null,
            "grid_auto_flow": null,
            "grid_auto_rows": null,
            "grid_column": null,
            "grid_gap": null,
            "grid_row": null,
            "grid_template_areas": null,
            "grid_template_columns": null,
            "grid_template_rows": null,
            "height": null,
            "justify_content": null,
            "justify_items": null,
            "left": null,
            "margin": null,
            "max_height": null,
            "max_width": null,
            "min_height": null,
            "min_width": null,
            "object_fit": null,
            "object_position": null,
            "order": null,
            "overflow": null,
            "overflow_x": null,
            "overflow_y": null,
            "padding": null,
            "right": null,
            "top": null,
            "visibility": null,
            "width": null
          }
        },
        "cfdb9e288ed1443590938cef973fd2b1": {
          "model_module": "@jupyter-widgets/base",
          "model_name": "LayoutModel",
          "model_module_version": "1.2.0",
          "state": {
            "_model_module": "@jupyter-widgets/base",
            "_model_module_version": "1.2.0",
            "_model_name": "LayoutModel",
            "_view_count": null,
            "_view_module": "@jupyter-widgets/base",
            "_view_module_version": "1.2.0",
            "_view_name": "LayoutView",
            "align_content": null,
            "align_items": null,
            "align_self": null,
            "border": null,
            "bottom": null,
            "display": null,
            "flex": null,
            "flex_flow": null,
            "grid_area": null,
            "grid_auto_columns": null,
            "grid_auto_flow": null,
            "grid_auto_rows": null,
            "grid_column": null,
            "grid_gap": null,
            "grid_row": null,
            "grid_template_areas": null,
            "grid_template_columns": null,
            "grid_template_rows": null,
            "height": null,
            "justify_content": null,
            "justify_items": null,
            "left": null,
            "margin": null,
            "max_height": null,
            "max_width": null,
            "min_height": null,
            "min_width": null,
            "object_fit": null,
            "object_position": null,
            "order": null,
            "overflow": null,
            "overflow_x": null,
            "overflow_y": null,
            "padding": null,
            "right": null,
            "top": null,
            "visibility": null,
            "width": null
          }
        },
        "becacac0ef1347b2a18fc797853c28ea": {
          "model_module": "@jupyter-widgets/controls",
          "model_name": "DescriptionStyleModel",
          "model_module_version": "1.5.0",
          "state": {
            "_model_module": "@jupyter-widgets/controls",
            "_model_module_version": "1.5.0",
            "_model_name": "DescriptionStyleModel",
            "_view_count": null,
            "_view_module": "@jupyter-widgets/base",
            "_view_module_version": "1.2.0",
            "_view_name": "StyleView",
            "description_width": ""
          }
        },
        "c28133a2552e4f0d9844558cd7b2f14a": {
          "model_module": "@jupyter-widgets/base",
          "model_name": "LayoutModel",
          "model_module_version": "1.2.0",
          "state": {
            "_model_module": "@jupyter-widgets/base",
            "_model_module_version": "1.2.0",
            "_model_name": "LayoutModel",
            "_view_count": null,
            "_view_module": "@jupyter-widgets/base",
            "_view_module_version": "1.2.0",
            "_view_name": "LayoutView",
            "align_content": null,
            "align_items": null,
            "align_self": null,
            "border": null,
            "bottom": null,
            "display": null,
            "flex": null,
            "flex_flow": null,
            "grid_area": null,
            "grid_auto_columns": null,
            "grid_auto_flow": null,
            "grid_auto_rows": null,
            "grid_column": null,
            "grid_gap": null,
            "grid_row": null,
            "grid_template_areas": null,
            "grid_template_columns": null,
            "grid_template_rows": null,
            "height": null,
            "justify_content": null,
            "justify_items": null,
            "left": null,
            "margin": null,
            "max_height": null,
            "max_width": null,
            "min_height": null,
            "min_width": null,
            "object_fit": null,
            "object_position": null,
            "order": null,
            "overflow": null,
            "overflow_x": null,
            "overflow_y": null,
            "padding": null,
            "right": null,
            "top": null,
            "visibility": null,
            "width": null
          }
        },
        "00e60d262c354b4992824da06e477517": {
          "model_module": "@jupyter-widgets/controls",
          "model_name": "ProgressStyleModel",
          "model_module_version": "1.5.0",
          "state": {
            "_model_module": "@jupyter-widgets/controls",
            "_model_module_version": "1.5.0",
            "_model_name": "ProgressStyleModel",
            "_view_count": null,
            "_view_module": "@jupyter-widgets/base",
            "_view_module_version": "1.2.0",
            "_view_name": "StyleView",
            "bar_color": null,
            "description_width": ""
          }
        },
        "61d3ad2d0e8044768849d062123337a5": {
          "model_module": "@jupyter-widgets/base",
          "model_name": "LayoutModel",
          "model_module_version": "1.2.0",
          "state": {
            "_model_module": "@jupyter-widgets/base",
            "_model_module_version": "1.2.0",
            "_model_name": "LayoutModel",
            "_view_count": null,
            "_view_module": "@jupyter-widgets/base",
            "_view_module_version": "1.2.0",
            "_view_name": "LayoutView",
            "align_content": null,
            "align_items": null,
            "align_self": null,
            "border": null,
            "bottom": null,
            "display": null,
            "flex": null,
            "flex_flow": null,
            "grid_area": null,
            "grid_auto_columns": null,
            "grid_auto_flow": null,
            "grid_auto_rows": null,
            "grid_column": null,
            "grid_gap": null,
            "grid_row": null,
            "grid_template_areas": null,
            "grid_template_columns": null,
            "grid_template_rows": null,
            "height": null,
            "justify_content": null,
            "justify_items": null,
            "left": null,
            "margin": null,
            "max_height": null,
            "max_width": null,
            "min_height": null,
            "min_width": null,
            "object_fit": null,
            "object_position": null,
            "order": null,
            "overflow": null,
            "overflow_x": null,
            "overflow_y": null,
            "padding": null,
            "right": null,
            "top": null,
            "visibility": null,
            "width": null
          }
        },
        "a6d80098b9a248aea1d512075fc8b804": {
          "model_module": "@jupyter-widgets/controls",
          "model_name": "DescriptionStyleModel",
          "model_module_version": "1.5.0",
          "state": {
            "_model_module": "@jupyter-widgets/controls",
            "_model_module_version": "1.5.0",
            "_model_name": "DescriptionStyleModel",
            "_view_count": null,
            "_view_module": "@jupyter-widgets/base",
            "_view_module_version": "1.2.0",
            "_view_name": "StyleView",
            "description_width": ""
          }
        }
      }
    }
  },
  "cells": [
    {
      "cell_type": "markdown",
      "source": [
        "\n",
        "Section Z: Import Libraries"
      ],
      "metadata": {
        "id": "uz_6HMyHFLlS"
      }
    },
    {
      "cell_type": "code",
      "source": [
        "import matplotlib.pyplot as plt\n",
        "import torch\n",
        "import numpy as np\n",
        "from scipy.signal import convolve2d\n",
        "import torch.nn as nn\n",
        "from tqdm import tqdm\n",
        "from torch.optim import Adam\n",
        "from torchvision.datasets import MNIST\n",
        "from torchvision.transforms import Compose, ToTensor, Normalize, Lambda\n",
        "from torch.utils.data import DataLoader\n",
        "from sklearn.metrics import accuracy_score\n",
        "import torchvision\n",
        "from sklearn.preprocessing import OneHotEncoder\n",
        "from tqdm.notebook import tqdm_notebook"
      ],
      "metadata": {
        "id": "itWQZXIuFQZu"
      },
      "execution_count": null,
      "outputs": []
    },
    {
      "cell_type": "markdown",
      "source": [
        "Section A: Dataset Loading"
      ],
      "metadata": {
        "id": "B9967R2-bSoT"
      }
    },
    {
      "cell_type": "code",
      "source": [
        "def MNIST_loaders(train_batch_size, test_batch_size):\n",
        "    mu_mnist = 0.1307\n",
        "    sig_mnist = 0.3081\n",
        "    # In PyTorch, a transform object is an instance of a class that defines a data transformation\n",
        "    transform = Compose([\n",
        "        ToTensor(), # Convert data to tensor\n",
        "        Normalize((mu_mnist,), (sig_mnist,)), # Normalise data\n",
        "        Lambda(lambda x: torch.flatten(x)) # flatten data\n",
        "        ])\n",
        "\n",
        "    train_loader = DataLoader(\n",
        "        MNIST('./data/', train=True, download=True, transform=transform),\n",
        "        batch_size=train_batch_size, shuffle=True\n",
        "        )\n",
        "        # shuffling is not important in evaluation!\n",
        "\n",
        "    test_loader = DataLoader(\n",
        "        MNIST('./data/', train=False, download=True, transform=transform),\n",
        "        batch_size=test_batch_size, shuffle=False\n",
        "        )\n",
        "    \"\"\" DataLoader object description\n",
        "     The primary purpose of a DataLoader is to take a dataset and provide batches of data to the model.\n",
        "     It handles the process of creating batches, shuffling the data (if specified),\n",
        "     and parallelizing data loading using multiple workers to improve efficiency.\n",
        "    \"\"\"\n",
        "    return train_loader, test_loader\n",
        "\n",
        "train_loader, test_loader = MNIST_loaders(50000, 10000)\n",
        "\n"
      ],
      "metadata": {
        "id": "XSYxWY7CFic6",
        "colab": {
          "base_uri": "https://localhost:8080/"
        },
        "outputId": "089430d6-cdbf-434c-edb8-35331162be5f"
      },
      "execution_count": null,
      "outputs": [
        {
          "output_type": "stream",
          "name": "stdout",
          "text": [
            "Downloading http://yann.lecun.com/exdb/mnist/train-images-idx3-ubyte.gz\n",
            "Downloading http://yann.lecun.com/exdb/mnist/train-images-idx3-ubyte.gz to ./data/MNIST/raw/train-images-idx3-ubyte.gz\n"
          ]
        },
        {
          "output_type": "stream",
          "name": "stderr",
          "text": [
            "100%|██████████| 9912422/9912422 [00:00<00:00, 102684727.45it/s]\n"
          ]
        },
        {
          "output_type": "stream",
          "name": "stdout",
          "text": [
            "Extracting ./data/MNIST/raw/train-images-idx3-ubyte.gz to ./data/MNIST/raw\n",
            "\n",
            "Downloading http://yann.lecun.com/exdb/mnist/train-labels-idx1-ubyte.gz\n",
            "Downloading http://yann.lecun.com/exdb/mnist/train-labels-idx1-ubyte.gz to ./data/MNIST/raw/train-labels-idx1-ubyte.gz\n"
          ]
        },
        {
          "output_type": "stream",
          "name": "stderr",
          "text": [
            "100%|██████████| 28881/28881 [00:00<00:00, 116141604.82it/s]\n"
          ]
        },
        {
          "output_type": "stream",
          "name": "stdout",
          "text": [
            "Extracting ./data/MNIST/raw/train-labels-idx1-ubyte.gz to ./data/MNIST/raw\n",
            "\n",
            "Downloading http://yann.lecun.com/exdb/mnist/t10k-images-idx3-ubyte.gz\n",
            "Downloading http://yann.lecun.com/exdb/mnist/t10k-images-idx3-ubyte.gz to ./data/MNIST/raw/t10k-images-idx3-ubyte.gz\n"
          ]
        },
        {
          "output_type": "stream",
          "name": "stderr",
          "text": [
            "100%|██████████| 1648877/1648877 [00:00<00:00, 30847936.36it/s]\n"
          ]
        },
        {
          "output_type": "stream",
          "name": "stdout",
          "text": [
            "Extracting ./data/MNIST/raw/t10k-images-idx3-ubyte.gz to ./data/MNIST/raw\n",
            "\n",
            "Downloading http://yann.lecun.com/exdb/mnist/t10k-labels-idx1-ubyte.gz\n",
            "Downloading http://yann.lecun.com/exdb/mnist/t10k-labels-idx1-ubyte.gz to ./data/MNIST/raw/t10k-labels-idx1-ubyte.gz\n"
          ]
        },
        {
          "output_type": "stream",
          "name": "stderr",
          "text": [
            "100%|██████████| 4542/4542 [00:00<00:00, 4190613.46it/s]\n"
          ]
        },
        {
          "output_type": "stream",
          "name": "stdout",
          "text": [
            "Extracting ./data/MNIST/raw/t10k-labels-idx1-ubyte.gz to ./data/MNIST/raw\n",
            "\n"
          ]
        }
      ]
    },
    {
      "cell_type": "markdown",
      "source": [
        "Section B: Generating Data"
      ],
      "metadata": {
        "id": "0U1He5caHWCc"
      }
    },
    {
      "cell_type": "code",
      "source": [
        "def overlay_labels_on_images(images, labels):\n",
        "    \"\"\"Replace the first 10 pixels of images with one-hot-encoded labels\n",
        "    \"\"\"\n",
        "    num_images = images.shape[0] # Get the number of images in the batch\n",
        "    data = images.clone() # Clone the input images to avoid modifying the original data\n",
        "\n",
        "    data[:, :10] *= 0.0 # Set the values of the first 10 pixels to 0.0\n",
        "\n",
        "    # For each image, set the pixel corresponding to the one-hot-encoded label to the maximum value in the original image\n",
        "    data[range(num_images), labels] = images.max()\n",
        "    return data\n",
        "\n",
        "\n",
        "images_train, labels_train = next(iter(train_loader)) # converts the train_loader into an iterator\n",
        "images_train, labels_train = images_train.cuda(), labels_train.cuda() # Move to GPU\n",
        "images_test, labels_test = next(iter(test_loader)) # test data\n",
        "images_test, labels_test = images_test.cuda(), labels_test.cuda() # Move to GPU\n",
        "\n",
        "images_pos = overlay_labels_on_images(images_train, labels_train)\n",
        "# Generate negative data\n",
        "rnd = torch.randperm(images_train.size(0))\n",
        "images_neg = overlay_labels_on_images(images_train, labels_train[rnd])\n"
      ],
      "metadata": {
        "id": "jgKj6BIaHbqF"
      },
      "execution_count": null,
      "outputs": []
    },
    {
      "cell_type": "markdown",
      "source": [
        "Section C: Implement Network"
      ],
      "metadata": {
        "id": "4hQr63QSf0zL"
      }
    },
    {
      "cell_type": "markdown",
      "source": [
        "تابع لاس نوشته شده را میتوان به دو بخش تقسیم کرد. یک بخش برای دیتاهای مثبت و دیگری برای دیتاهای منفی. هرچقدر گودنس برای داده های مثبت بیشتر از ترشولد و برای داده های منفی کمتر از ترشولد باشد لاس کمتر میشود و میزان جریمه کمتر میشود. پس میتوان گفت هدف از این لاس بیشینه کردن گودنس برای داده های مثبت و کمینه کردن آن برای داده های منفی است."
      ],
      "metadata": {
        "id": "EQoZ2lGVaQvf"
      }
    },
    {
      "cell_type": "code",
      "source": [
        "class Net(nn.Module):\n",
        "\n",
        "    def __init__(self, dims):\n",
        "        super().__init__()\n",
        "        self.layers = []\n",
        "        for d in range(len(dims) - 1):\n",
        "            self.layers += [Layer(dims[d], dims[d + 1]).cuda()]\n",
        "    \"\"\"\n",
        "    The paper mentions some techniques like accumulating \"goodness\" scores for each\n",
        "    possible class label and picking the one with the highest score. We could use\n",
        "    this goodness measure to get a predicted label and compare to the true label.\n",
        "    \"\"\"\n",
        "\n",
        "    def predict(self, x):\n",
        "        goodness_per_label = []\n",
        "        for label in range(10):\n",
        "            h = overlay_labels_on_images(x, label)\n",
        "            layers_goodness = []\n",
        "            for layer in self.layers:\n",
        "                h = layer.forward(h)\n",
        "                layers_goodness += [h.pow(2).mean(1)]\n",
        "            goodness_per_label += [sum(layers_goodness).unsqueeze(1)]\n",
        "        goodness_per_label = torch.cat(goodness_per_label, 1)\n",
        "        return goodness_per_label.argmax(1)\n",
        "\n",
        "    def train(self, x_pos, x_neg):\n",
        "        itr_pos = x_pos.clone()\n",
        "        itr_neg = x_neg.clone()\n",
        "        for layer in self.layers:\n",
        "            itr_pos, itr_neg = layer.train(itr_pos, itr_neg)\n",
        "\n",
        "class Layer(nn.Linear):\n",
        "    def __init__(self, in_features, out_features,\n",
        "                 bias=True, device=None, dtype=None):\n",
        "        super().__init__(in_features, out_features, bias, device, dtype)\n",
        "        self.relu = nn.ReLU()\n",
        "        self.opt = Adam(self.parameters(), lr=0.03)\n",
        "        self.threshold = 2.0\n",
        "        self.num_epochs = 800\n",
        "\n",
        "    def forward(self, x):\n",
        "        xn = x / (1e-5 + x.norm(2, 1, keepdim=True))\n",
        "        xn = x / x.size(1)\n",
        "        nxt = torch.mm(xn, self.weight.T) + self.bias.unsqueeze(0)\n",
        "        return self.relu(nxt)\n",
        "\n",
        "\n",
        "    def train(self, x_pos, x_neg):\n",
        "        for i in tqdm(range(self.num_epochs)):\n",
        "          # goodness for each data\n",
        "            g_pos = self.forward(x_pos).pow(2).sum(1)\n",
        "            g_neg = self.forward(x_neg).pow(2).sum(1)\n",
        "          # loss for each data\n",
        "            lp = torch.log(1 + torch.exp(-g_pos + self.threshold))\n",
        "            ln = torch.log(1 + torch.exp(g_neg - self.threshold))\n",
        "            loss = torch.cat([lp, ln]).mean()\n",
        "          # optimization\n",
        "            self.opt.zero_grad()\n",
        "            loss.backward()\n",
        "            self.opt.step()\n",
        "        return self.forward(x_pos).detach(), self.forward(x_neg).detach()"
      ],
      "metadata": {
        "id": "3ho37HW1Snkb"
      },
      "execution_count": null,
      "outputs": []
    },
    {
      "cell_type": "markdown",
      "source": [
        "Section D: Results"
      ],
      "metadata": {
        "id": "ce9CjSTxgC2x"
      }
    },
    {
      "cell_type": "markdown",
      "source": [
        "نتایج در پایین کد نشان داده شده اند. آموزش با تعریف لاس مذکور سپس اجرای الگوریتم آدام بر روی آن صورت میگیرد. برای بدست آوردن خروجی به ازای یک ورودی نیز ابتدا ورودی نرمالیزه میشود و سپس با ضرب در وزن و عبور از تابع فعالسازی به لایه بعدی میرود. برچسب زدن به داده ها نیز به این صورت است که یک عکس با تمامی لیبل ها به شبکه داده میشود و سپس لیبلی که آن را بیشینه میکند به ان نسبت داده میشود.\n",
        "\n",
        "آموزش کل شبکه نیز با آموزش هر لایه به صورت جداگانه و سپس رد کردن ورودی از آن و آموزش لایه بعدی انجام میشود."
      ],
      "metadata": {
        "id": "B_21sBeBbLY1"
      }
    },
    {
      "cell_type": "code",
      "source": [
        "model_sv = Net([784, 1000, 1000]) # Poverty allert: When I put it 2000, I get limit error on colab:))))\n",
        "model_sv.train(images_pos, images_neg)\n",
        "\n",
        "x = model_sv.predict(images_train).eq(labels_train).float().mean().item()\n",
        "print('train error:', 1.0 - x)\n",
        "print('train accuracy:', x)\n",
        "\n",
        "\n",
        "y = model_sv.predict(images_test).eq(labels_test).float().mean().item()\n",
        "print('test error:', 1.0 - y)\n",
        "print('test error:', y)\n"
      ],
      "metadata": {
        "colab": {
          "base_uri": "https://localhost:8080/"
        },
        "id": "8YhFSIdff0cA",
        "outputId": "b474e12c-29a8-4c9f-84fc-a2d5605da075"
      },
      "execution_count": null,
      "outputs": [
        {
          "output_type": "stream",
          "name": "stderr",
          "text": [
            "100%|██████████| 800/800 [01:23<00:00,  9.60it/s]\n",
            "100%|██████████| 800/800 [01:34<00:00,  8.44it/s]\n"
          ]
        },
        {
          "output_type": "stream",
          "name": "stdout",
          "text": [
            "train error: 0.12782001495361328\n",
            "train accuracy: 0.8721799850463867\n",
            "test error: 0.12480002641677856\n",
            "test error: 0.8751999735832214\n"
          ]
        }
      ]
    },
    {
      "cell_type": "markdown",
      "source": [
        "**Unsupervised Learning**\n",
        "\n",
        "\n",
        "Section A: Define a Proper Mask"
      ],
      "metadata": {
        "id": "ZLx6ptpHbjbc"
      }
    },
    {
      "cell_type": "code",
      "source": [
        "# The method for generating masks for negative data mentioned by Geoffrey Hinton in the article\n",
        "def mask_gen(itr = 10):\n",
        "    random_image = np.random.randint(2, size=(28,28)).squeeze().astype(np.float32)\n",
        "    blur_filter_horizontal = np.array([[0, 0, 0], [0.25, 0.5, 0.25], [0, 0, 0]])\n",
        "    blur_filter_vertical = blur_filter_horizontal.T\n",
        "    for i in range(itr):\n",
        "        random_image = convolve2d(random_image, blur_filter_vertical, mode='same', boundary='symm')\n",
        "        random_image = convolve2d(random_image, blur_filter_horizontal, mode='same', boundary='symm')\n",
        "    # make the mask binerize\n",
        "    mask = (random_image > 0.5).astype(np.float32)\n",
        "    return mask"
      ],
      "metadata": {
        "colab": {
          "base_uri": "https://localhost:8080/",
          "height": 430
        },
        "id": "1JqSWyuK6KVY",
        "outputId": "41098818-1079-4101-a98c-5db4b565e537"
      },
      "execution_count": null,
      "outputs": [
        {
          "output_type": "display_data",
          "data": {
            "text/plain": [
              "<Figure size 640x480 with 1 Axes>"
            ],
            "image/png": "[encoded data removed]"
          },
          "metadata": {}
        }
      ]
    },
    {
      "cell_type": "markdown",
      "source": [
        "Section B: Generating negative data"
      ],
      "metadata": {
        "id": "lryVTYhGdelX"
      }
    },
    {
      "cell_type": "code",
      "source": [
        "def create_negative_batch(batch):\n",
        "    mask = mask_gen(8) # mask with 8\n",
        "    # permute batch twice\n",
        "    indexes1 = torch.randperm(batch.shape[0])\n",
        "    indexes2 = torch.randperm(batch.shape[0])\n",
        "    batch_perm1 = batch[indexes1]\n",
        "    batch_perm2 = batch[indexes2]\n",
        "    # apply the mask for each batch\n",
        "    masked_batch_perm1 = batch_perm1 * mask\n",
        "    masked_batch_perm2 = batch_perm2 * (1-mask)\n",
        "    # add masked batches\n",
        "    hybrid_images = masked_batch_perm2 + masked_batch_perm1\n",
        "    return hybrid_images"
      ],
      "metadata": {
        "id": "oYhY6u3WADLp"
      },
      "execution_count": null,
      "outputs": []
    },
    {
      "cell_type": "markdown",
      "source": [
        "Section C: Implement Network"
      ],
      "metadata": {
        "id": "DFazt3h_eH7n"
      }
    },
    {
      "cell_type": "code",
      "source": [
        "class UnNet(nn.Module):\n",
        "    def __init__(self, dims):\n",
        "        super().__init__()\n",
        "        self.layers = []\n",
        "        for d in range(len(dims) - 1):\n",
        "            self.layers += [Layer(dims[d], dims[d + 1]).cuda()]\n",
        "\n",
        "    def predict(self, x):\n",
        "        layers_output = torch.Tensor([]).cuda()\n",
        "        h = x.clone()\n",
        "        for layer in self.layers:\n",
        "            h = layer.forward(h)\n",
        "            layers_output = torch.cat([layers_output, h],1)\n",
        "        return layers_output\n",
        "\n",
        "    def train(self, x_pos, x_neg):\n",
        "        itr_pos = x_pos.clone()\n",
        "        itr_neg = x_neg.clone()\n",
        "        for layer in self.layers:\n",
        "            itr_pos, itr_neg = layer.train(itr_pos, itr_neg)"
      ],
      "metadata": {
        "id": "X_tdRArtQc0N"
      },
      "execution_count": null,
      "outputs": []
    },
    {
      "cell_type": "markdown",
      "source": [
        "خروجی شبکه در این حالت لیبل ها نیست و در واقع یک فیچر مپ از آنها است. یعنی اگر شبکه به خوبی تنظیم شود میتواند ویژگی های خیلی خوبی داشته باشد; از این ویژگی ها میتوان برای طبقه بندی عکس ها استفاده کرد."
      ],
      "metadata": {
        "id": "0t6ipQECeXXG"
      }
    },
    {
      "cell_type": "markdown",
      "source": [
        "Section D: Linear Classifier"
      ],
      "metadata": {
        "id": "r2cVANvMZO08"
      }
    },
    {
      "cell_type": "markdown",
      "source": [
        "زیرا تنها در این صورت میتوان فهمید که ویژگی های خوبی استخراج کرده ایم یا خیر. اگر طبقه بند غیرخطی باشد انگار بخشی از طبقه بند وظیفه استخراج ویژگی را انچام میدهد."
      ],
      "metadata": {
        "id": "WtpsZpSQfNT2"
      }
    },
    {
      "cell_type": "code",
      "source": [
        "model_usv = UnNet([784,500,500,500,500])\n",
        "\n",
        "model_usv.train(images_pos, images_neg)\n"
      ],
      "metadata": {
        "id": "RJ0zM3emZbuq",
        "colab": {
          "base_uri": "https://localhost:8080/"
        },
        "outputId": "381b0724-a201-431b-bea0-815452d15d1e"
      },
      "execution_count": null,
      "outputs": [
        {
          "output_type": "stream",
          "name": "stderr",
          "text": [
            "100%|██████████| 800/800 [00:47<00:00, 16.96it/s]\n",
            "100%|██████████| 800/800 [00:31<00:00, 25.45it/s]\n",
            "100%|██████████| 800/800 [00:31<00:00, 25.30it/s]\n",
            "100%|██████████| 800/800 [00:31<00:00, 25.26it/s]\n"
          ]
        }
      ]
    },
    {
      "cell_type": "code",
      "source": [
        "class LinearClassification(nn.Module):\n",
        "    def __init__(self):\n",
        "        super().__init__()\n",
        "        self.epoch_losses = []\n",
        "        self.linear = nn.Linear(2000, 10).cuda()\n",
        "        self.optimizer = torch.optim.SGD(self.parameters(), lr=0.05)\n",
        "        self.criterion = nn.CrossEntropyLoss()\n",
        "        self.softmax = nn.Softmax()\n",
        "\n",
        "    def forward(self, x):\n",
        "        return self.linear(x)\n",
        "\n",
        "    def predict(self, x):\n",
        "        x = x.view(-1, 784).cuda()\n",
        "        model_out = model_usv.predict(x)\n",
        "        classifier_out = self.forward(model_out)\n",
        "        soft_out = self.softmax(classifier_out)\n",
        "        return soft_out.argmax()\n",
        "\n",
        "    def train(self, data_loader, epoch_num):\n",
        "        linear_loop = tqdm_notebook(range(epoch_num), total=epoch_num)\n",
        "        for i in linear_loop:\n",
        "            batch_losses = []\n",
        "            for batch in iter(data_loader):\n",
        "                x,y = batch\n",
        "                x = x.view(-1,784).cuda()\n",
        "                y_r = nn.functional.one_hot(y, num_classes=10).to(torch.float).cuda()\n",
        "                model_out = model_usv.predict(x)\n",
        "                classifier_out = self.forward(model_out)\n",
        "                loss_batch = self.criterion(classifier_out, y_r) # Cross Entropy loss\n",
        "                # Optimization\n",
        "                self.optimizer.zero_grad()\n",
        "                loss_batch.backward()\n",
        "                self.optimizer.step()\n",
        "                # Add the loss to all losses\n",
        "                batch_losses.append(loss_batch)\n",
        "            self.epoch_losses.append(float(sum(batch_losses)/len(batch_losses)))\n",
        "\n",
        "    def test(self, data_loader):\n",
        "        acc_list = []\n",
        "        for batch in iter(data_loader):\n",
        "            x, y = batch\n",
        "            x = x.view(-1,784).cuda()\n",
        "            y_r = nn.functional.one_hot(y, num_classes=10).to(torch.float).cuda()\n",
        "            model_out = model_usv.predict(x)\n",
        "            classifier_out = self.forward(model_out)\n",
        "            loss_batch = self.criterion(classifier_out, y_r)\n",
        "\n",
        "            # Get the index of the max log-probability (predicted class) for each sample\n",
        "            pred = classifier_out.argmax(dim=1)\n",
        "\n",
        "            # Get the index of the actual class for each sample\n",
        "            target = y_r.argmax(dim=1)\n",
        "\n",
        "            # Calculate the accuracy by comparing predictions with labels\n",
        "            accuracy = (pred == target).float().mean().item()\n",
        "            acc_list.append(accuracy)\n",
        "        return acc_list"
      ],
      "metadata": {
        "id": "0DHoK4T6kn68"
      },
      "execution_count": null,
      "outputs": []
    },
    {
      "cell_type": "markdown",
      "source": [
        "Section E: report results"
      ],
      "metadata": {
        "id": "gfbjDLxKlixt"
      }
    },
    {
      "cell_type": "code",
      "source": [
        "linear_model = LinearClassification()\n",
        "losses = linear_model.train(train_loader, 100)\n",
        "acc = linear_model.test(test_loader)\n",
        "print(f'Accuracy: {max(acc) * 100}%')\n",
        "# It takes around 30 minutes, acc = 81 %"
      ],
      "metadata": {
        "colab": {
          "base_uri": "https://localhost:8080/",
          "height": 66,
          "referenced_widgets": [
            "45a6881e5d0b45e08e7e1db9d3a24c29",
            "3c8c98a38ade433fad5c241772932478",
            "26ed047d75414b24b436e3514c08ac2f",
            "4b3d7ee6a0054eeabb098a768abf771d",
            "26f000786c074d1ebb9d1fdfec476581",
            "cfdb9e288ed1443590938cef973fd2b1",
            "becacac0ef1347b2a18fc797853c28ea",
            "c28133a2552e4f0d9844558cd7b2f14a",
            "00e60d262c354b4992824da06e477517",
            "61d3ad2d0e8044768849d062123337a5",
            "a6d80098b9a248aea1d512075fc8b804"
          ]
        },
        "id": "4zRZPHxTlrGY",
        "outputId": "d127158d-8e50-4ffa-f3d5-a1b4be25d01a"
      },
      "execution_count": null,
      "outputs": [
        {
          "data": {
            "application/vnd.jupyter.widget-view+json": {
              "model_id": "45a6881e5d0b45e08e7e1db9d3a24c29",
              "version_major": 2,
              "version_minor": 0
            },
            "text/plain": [
              "  0%|          | 0/100 [00:00<?, ?it/s]"
            ]
          },
          "metadata": {},
          "output_type": "display_data"
        },
        {
          "output_type": "stream",
          "name": "stdout",
          "text": [
            "Accuracy: 81.2999963760376%\n"
          ]
        }
      ]
    }
  ]
}